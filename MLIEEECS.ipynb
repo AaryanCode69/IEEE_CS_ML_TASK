{
  "nbformat": 4,
  "nbformat_minor": 0,
  "metadata": {
    "colab": {
      "provenance": []
    },
    "kernelspec": {
      "name": "python3",
      "display_name": "Python 3"
    },
    "language_info": {
      "name": "python"
    }
  },
  "cells": [
    {
      "cell_type": "code",
      "execution_count": 2,
      "metadata": {
        "id": "NtgiGiUJBHCl"
      },
      "outputs": [],
      "source": [
        "import pandas as pd\n",
        "import numpy as np\n",
        "from sklearn.model_selection import train_test_split\n",
        "from sklearn.linear_model import LogisticRegression\n",
        "from sklearn.metrics import accuracy_score"
      ]
    },
    {
      "cell_type": "code",
      "source": [
        "df = pd.read_csv('heart_disease_data.csv')\n"
      ],
      "metadata": {
        "id": "4H4UuMllBprs"
      },
      "execution_count": 4,
      "outputs": []
    },
    {
      "cell_type": "code",
      "source": [
        "df['target'].value_counts()"
      ],
      "metadata": {
        "id": "URpdSnRMEIWz"
      },
      "execution_count": null,
      "outputs": []
    },
    {
      "cell_type": "markdown",
      "source": [
        "1 : Defective heart\n",
        "0 : Healthy Heart"
      ],
      "metadata": {
        "id": "Z6SYcuWoEXTc"
      }
    },
    {
      "cell_type": "code",
      "source": [
        "X = df.drop(columns = 'target',axis=1)"
      ],
      "metadata": {
        "id": "3y09e9ouEuFH"
      },
      "execution_count": 13,
      "outputs": []
    },
    {
      "cell_type": "code",
      "source": [
        "Y=df['target']\n"
      ],
      "metadata": {
        "id": "EBWyzoLuE86u"
      },
      "execution_count": 16,
      "outputs": []
    },
    {
      "cell_type": "code",
      "source": [
        "X_train,X_test,Y_train,Y_test = train_test_split(X,Y,test_size=0.2,stratify=Y,random_state=23)"
      ],
      "metadata": {
        "id": "kWr8LPOOIz63"
      },
      "execution_count": 18,
      "outputs": []
    },
    {
      "cell_type": "code",
      "source": [
        "model = LogisticRegression()"
      ],
      "metadata": {
        "id": "p-qPK9xqJ-oA"
      },
      "execution_count": 20,
      "outputs": []
    },
    {
      "cell_type": "code",
      "source": [
        "model.fit(X_train,Y_train)"
      ],
      "metadata": {
        "id": "9HKRorb0KHj0"
      },
      "execution_count": null,
      "outputs": []
    },
    {
      "cell_type": "code",
      "source": [
        "prediction_y= model.predict(X_test)"
      ],
      "metadata": {
        "id": "MnebJKkIKdtG"
      },
      "execution_count": 23,
      "outputs": []
    },
    {
      "cell_type": "code",
      "source": [
        "score = accuracy_score(Y_test,prediction_y)"
      ],
      "metadata": {
        "id": "zTTdva4DK45G"
      },
      "execution_count": 26,
      "outputs": []
    },
    {
      "cell_type": "code",
      "source": [
        "input_data = (62,0,0,148,268,0,0,160,0,3.6,0,2,2)\n",
        "arr = np.array(input_data)\n"
      ],
      "metadata": {
        "id": "njpEqYwAQNLh"
      },
      "execution_count": 51,
      "outputs": []
    },
    {
      "cell_type": "code",
      "source": [
        "prediction = model.predict(arr.reshape(1,-1))"
      ],
      "metadata": {
        "colab": {
          "base_uri": "https://localhost:8080/"
        },
        "id": "TljHd9HhRefi",
        "outputId": "f7f5bc8c-75f0-4cbf-9afa-9a48335561b3"
      },
      "execution_count": 52,
      "outputs": [
        {
          "output_type": "stream",
          "name": "stderr",
          "text": [
            "/usr/local/lib/python3.10/dist-packages/sklearn/base.py:439: UserWarning: X does not have valid feature names, but LogisticRegression was fitted with feature names\n",
            "  warnings.warn(\n"
          ]
        }
      ]
    },
    {
      "cell_type": "code",
      "source": [
        "if prediction[0] == 0:\n",
        "  print(\"Healthy Person\")\n",
        "else :\n",
        "  print(\"Not Healthy Person\")"
      ],
      "metadata": {
        "colab": {
          "base_uri": "https://localhost:8080/"
        },
        "id": "k64IImnySNXj",
        "outputId": "2e0e6bcf-eef9-4614-c6be-00d48454e0d9"
      },
      "execution_count": 53,
      "outputs": [
        {
          "output_type": "stream",
          "name": "stdout",
          "text": [
            "Healthy Person\n"
          ]
        }
      ]
    }
  ]
}